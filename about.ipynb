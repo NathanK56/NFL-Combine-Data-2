{
  "cells": [
    {
      "cell_type": "raw",
      "metadata": {},
      "source": [
        "---\n",
        "title: \"About\"\n",
        "---"
      ],
      "id": "4d449853"
    },
    {
      "cell_type": "markdown",
      "metadata": {},
      "source": [
        "About this site\n",
        "\n",
        "\n",
        "```{I am Nathan Koshy, a rising sophomore at Cherokee Trail High School.}\n",
        "```"
      ],
      "id": "e80c5f15"
    }
  ],
  "metadata": {
    "kernelspec": {
      "display_name": "Python 3",
      "language": "python",
      "name": "python3"
    }
  },
  "nbformat": 4,
  "nbformat_minor": 5
}